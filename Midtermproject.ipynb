{
 "cells": [
  {
   "cell_type": "markdown",
   "metadata": {
    "ExecuteTime": {
     "end_time": "2019-10-30T17:29:04.702706Z",
     "start_time": "2019-10-30T17:29:04.700394Z"
    }
   },
   "source": [
    "# Mid term group work"
   ]
  },
  {
   "cell_type": "markdown",
   "metadata": {},
   "source": [
    "analyse overtime\n",
    "across categories\n",
    "both exploration and presentation style"
   ]
  },
  {
   "cell_type": "markdown",
   "metadata": {},
   "source": [
    "1. the general tendency of the focal variable over time (e.g., the\n",
    "   trajectory of popularity of the average 'pop' album);\n",
    "2. the distribution of the focal variable at multiple points in time;\n",
    "3. the evolution of the focal variable for specific cases (e.g.,\n",
    "   specific products);\n",
    "4. the differences/similarities in 1, 2, and 3 across categories of\n",
    "   entities (e.g., types of products)."
   ]
  },
  {
   "cell_type": "markdown",
   "metadata": {},
   "source": [
    "the trajectory in the count of ratings received by product across time \n",
    "      (since the very first score up to six months later; exclude products whose \n",
    "      first score has been posted by less than six months);\n",
    "  - the association between the trajectory in the count of ratings and \n",
    "      product attributes (e.g., product-market category, price);\n",
    "  - the association between the trajectory in the count of ratings and \n",
    "      the timing/pace with which ratings are posted.\n",
    "\n",
    "The **audience** for this chart is a team of experienced marketing\n",
    "analysts who want to understand how/why attention (measured in terms of count of\n",
    "ratings) develops around new products.  The chart is meant to serve both\n",
    "exploration and presentations goals – analysts will use it (i) to\n",
    "speculate about the factors that account for the trajectory in the\n",
    "count of ratings; (ii) to update their client with a PowerPoint alike\n",
    "slide-show.\n"
   ]
  },
  {
   "cell_type": "code",
   "execution_count": 2,
   "metadata": {
    "ExecuteTime": {
     "end_time": "2019-10-30T17:42:53.871476Z",
     "start_time": "2019-10-30T17:42:53.865489Z"
    }
   },
   "outputs": [],
   "source": [
    "import numpy as np\n",
    "import pandas as pd\n",
    "import matplotlib.pyplot as plt\n",
    "import matplotlib as mpl\n",
    "%matplotlib inline"
   ]
  },
  {
   "cell_type": "code",
   "execution_count": 3,
   "metadata": {
    "ExecuteTime": {
     "end_time": "2019-10-30T17:54:09.372147Z",
     "start_time": "2019-10-30T17:54:04.695612Z"
    }
   },
   "outputs": [],
   "source": [
    "metadata = pd.read_csv('ratings_Electronics.csv')"
   ]
  },
  {
   "cell_type": "code",
   "execution_count": 4,
   "metadata": {
    "ExecuteTime": {
     "end_time": "2019-10-30T17:54:12.492536Z",
     "start_time": "2019-10-30T17:54:12.477763Z"
    }
   },
   "outputs": [
    {
     "data": {
      "text/html": [
       "<div>\n",
       "<style scoped>\n",
       "    .dataframe tbody tr th:only-of-type {\n",
       "        vertical-align: middle;\n",
       "    }\n",
       "\n",
       "    .dataframe tbody tr th {\n",
       "        vertical-align: top;\n",
       "    }\n",
       "\n",
       "    .dataframe thead th {\n",
       "        text-align: right;\n",
       "    }\n",
       "</style>\n",
       "<table border=\"1\" class=\"dataframe\">\n",
       "  <thead>\n",
       "    <tr style=\"text-align: right;\">\n",
       "      <th></th>\n",
       "      <th>AKM1MP6P0OYPR</th>\n",
       "      <th>0132793040</th>\n",
       "      <th>5.0</th>\n",
       "      <th>1365811200</th>\n",
       "    </tr>\n",
       "  </thead>\n",
       "  <tbody>\n",
       "    <tr>\n",
       "      <td>0</td>\n",
       "      <td>A2CX7LUOHB2NDG</td>\n",
       "      <td>0321732944</td>\n",
       "      <td>5.0</td>\n",
       "      <td>1341100800</td>\n",
       "    </tr>\n",
       "    <tr>\n",
       "      <td>1</td>\n",
       "      <td>A2NWSAGRHCP8N5</td>\n",
       "      <td>0439886341</td>\n",
       "      <td>1.0</td>\n",
       "      <td>1367193600</td>\n",
       "    </tr>\n",
       "    <tr>\n",
       "      <td>2</td>\n",
       "      <td>A2WNBOD3WNDNKT</td>\n",
       "      <td>0439886341</td>\n",
       "      <td>3.0</td>\n",
       "      <td>1374451200</td>\n",
       "    </tr>\n",
       "    <tr>\n",
       "      <td>3</td>\n",
       "      <td>A1GI0U4ZRJA8WN</td>\n",
       "      <td>0439886341</td>\n",
       "      <td>1.0</td>\n",
       "      <td>1334707200</td>\n",
       "    </tr>\n",
       "    <tr>\n",
       "      <td>4</td>\n",
       "      <td>A1QGNMC6O1VW39</td>\n",
       "      <td>0511189877</td>\n",
       "      <td>5.0</td>\n",
       "      <td>1397433600</td>\n",
       "    </tr>\n",
       "    <tr>\n",
       "      <td>...</td>\n",
       "      <td>...</td>\n",
       "      <td>...</td>\n",
       "      <td>...</td>\n",
       "      <td>...</td>\n",
       "    </tr>\n",
       "    <tr>\n",
       "      <td>7824476</td>\n",
       "      <td>A2YZI3C9MOHC0L</td>\n",
       "      <td>BT008UKTMW</td>\n",
       "      <td>5.0</td>\n",
       "      <td>1396569600</td>\n",
       "    </tr>\n",
       "    <tr>\n",
       "      <td>7824477</td>\n",
       "      <td>A322MDK0M89RHN</td>\n",
       "      <td>BT008UKTMW</td>\n",
       "      <td>5.0</td>\n",
       "      <td>1313366400</td>\n",
       "    </tr>\n",
       "    <tr>\n",
       "      <td>7824478</td>\n",
       "      <td>A1MH90R0ADMIK0</td>\n",
       "      <td>BT008UKTMW</td>\n",
       "      <td>4.0</td>\n",
       "      <td>1404172800</td>\n",
       "    </tr>\n",
       "    <tr>\n",
       "      <td>7824479</td>\n",
       "      <td>A10M2KEFPEQDHN</td>\n",
       "      <td>BT008UKTMW</td>\n",
       "      <td>4.0</td>\n",
       "      <td>1297555200</td>\n",
       "    </tr>\n",
       "    <tr>\n",
       "      <td>7824480</td>\n",
       "      <td>A2G81TMIOIDEQQ</td>\n",
       "      <td>BT008V9J9U</td>\n",
       "      <td>5.0</td>\n",
       "      <td>1312675200</td>\n",
       "    </tr>\n",
       "  </tbody>\n",
       "</table>\n",
       "<p>7824481 rows × 4 columns</p>\n",
       "</div>"
      ],
      "text/plain": [
       "          AKM1MP6P0OYPR  0132793040  5.0  1365811200\n",
       "0        A2CX7LUOHB2NDG  0321732944  5.0  1341100800\n",
       "1        A2NWSAGRHCP8N5  0439886341  1.0  1367193600\n",
       "2        A2WNBOD3WNDNKT  0439886341  3.0  1374451200\n",
       "3        A1GI0U4ZRJA8WN  0439886341  1.0  1334707200\n",
       "4        A1QGNMC6O1VW39  0511189877  5.0  1397433600\n",
       "...                 ...         ...  ...         ...\n",
       "7824476  A2YZI3C9MOHC0L  BT008UKTMW  5.0  1396569600\n",
       "7824477  A322MDK0M89RHN  BT008UKTMW  5.0  1313366400\n",
       "7824478  A1MH90R0ADMIK0  BT008UKTMW  4.0  1404172800\n",
       "7824479  A10M2KEFPEQDHN  BT008UKTMW  4.0  1297555200\n",
       "7824480  A2G81TMIOIDEQQ  BT008V9J9U  5.0  1312675200\n",
       "\n",
       "[7824481 rows x 4 columns]"
      ]
     },
     "execution_count": 4,
     "metadata": {},
     "output_type": "execute_result"
    }
   ],
   "source": [
    "metadata"
   ]
  },
  {
   "cell_type": "code",
   "execution_count": null,
   "metadata": {},
   "outputs": [],
   "source": []
  }
 ],
 "metadata": {
  "kernelspec": {
   "display_name": "Python 3",
   "language": "python",
   "name": "python3"
  },
  "language_info": {
   "codemirror_mode": {
    "name": "ipython",
    "version": 3
   },
   "file_extension": ".py",
   "mimetype": "text/x-python",
   "name": "python",
   "nbconvert_exporter": "python",
   "pygments_lexer": "ipython3",
   "version": "3.7.4"
  },
  "toc": {
   "base_numbering": 1,
   "nav_menu": {},
   "number_sections": true,
   "sideBar": true,
   "skip_h1_title": false,
   "title_cell": "Table of Contents",
   "title_sidebar": "Contents",
   "toc_cell": false,
   "toc_position": {},
   "toc_section_display": true,
   "toc_window_display": false
  },
  "varInspector": {
   "cols": {
    "lenName": 16,
    "lenType": 16,
    "lenVar": 40
   },
   "kernels_config": {
    "python": {
     "delete_cmd_postfix": "",
     "delete_cmd_prefix": "del ",
     "library": "var_list.py",
     "varRefreshCmd": "print(var_dic_list())"
    },
    "r": {
     "delete_cmd_postfix": ") ",
     "delete_cmd_prefix": "rm(",
     "library": "var_list.r",
     "varRefreshCmd": "cat(var_dic_list()) "
    }
   },
   "types_to_exclude": [
    "module",
    "function",
    "builtin_function_or_method",
    "instance",
    "_Feature"
   ],
   "window_display": false
  }
 },
 "nbformat": 4,
 "nbformat_minor": 2
}
